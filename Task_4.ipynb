{
  "nbformat": 4,
  "nbformat_minor": 0,
  "metadata": {
    "colab": {
      "provenance": []
    },
    "kernelspec": {
      "name": "python3",
      "display_name": "Python 3"
    },
    "language_info": {
      "name": "python"
    }
  },
  "cells": [
    {
      "cell_type": "markdown",
      "source": [
        "## **1. Library Installation:**\n",
        "**pytesseract:** This is a Python wrapper for the Tesseract OCR engine, which performs text recognition on images.\n",
        "\n",
        "**Pillow**: A Python library for handling images, which allows us to open and manipulate image files.\n",
        "\n",
        "The **sudo apt-get install tesseract-ocr** command installs the Tesseract OCR engine itself on your system.\n",
        "\n",
        "**tesseract --version** verifies the installation, ensuring Tesseract is installed correctly and ready to use.\n"
      ],
      "metadata": {
        "id": "dv7KAZh2qpi1"
      }
    },
    {
      "cell_type": "code",
      "execution_count": 7,
      "metadata": {
        "colab": {
          "base_uri": "https://localhost:8080/"
        },
        "id": "4BRyqdGZBz6c",
        "outputId": "efc9db18-0810-4c49-d2dc-39c41dae5cc3"
      },
      "outputs": [
        {
          "output_type": "stream",
          "name": "stdout",
          "text": [
            "Requirement already satisfied: pytesseract in /usr/local/lib/python3.10/dist-packages (0.3.13)\n",
            "Requirement already satisfied: Pillow in /usr/local/lib/python3.10/dist-packages (10.4.0)\n",
            "Requirement already satisfied: packaging>=21.3 in /usr/local/lib/python3.10/dist-packages (from pytesseract) (24.1)\n",
            "Reading package lists... Done\n",
            "Building dependency tree... Done\n",
            "Reading state information... Done\n",
            "tesseract-ocr is already the newest version (4.1.1-2.1build1).\n",
            "0 upgraded, 0 newly installed, 0 to remove and 49 not upgraded.\n",
            "tesseract 4.1.1\n",
            " leptonica-1.82.0\n",
            "  libgif 5.1.9 : libjpeg 8d (libjpeg-turbo 2.1.1) : libpng 1.6.37 : libtiff 4.3.0 : zlib 1.2.11 : libwebp 1.2.2 : libopenjp2 2.4.0\n",
            " Found AVX2\n",
            " Found AVX\n",
            " Found FMA\n",
            " Found SSE\n",
            " Found libarchive 3.6.0 zlib/1.2.11 liblzma/5.2.5 bz2lib/1.0.8 liblz4/1.9.3 libzstd/1.4.8\n"
          ]
        }
      ],
      "source": [
        "# Installing necessary libraries for OCR\n",
        "!pip install pytesseract Pillow\n",
        "!sudo apt-get install tesseract-ocr\n",
        "!tesseract --version"
      ]
    },
    {
      "cell_type": "markdown",
      "source": [
        "## **2. Import Statements**:\n",
        "**pytesseract:** Provides access to Tesseract’s OCR capabilities, enabling text extraction from images.\n",
        "\n",
        "**Image** (from **PIL**): Allows opening and handling images in formats like PNG, JPEG, etc., so that they can be processed by pytesseract.\n",
        "\n",
        "**os:** Used for file and directory management, like checking file existence and creating directories.\n",
        "\n",
        "**json**: Helps format the extracted data into JSON for structured output.\n"
      ],
      "metadata": {
        "id": "i6wn58v8rl4w"
      }
    },
    {
      "cell_type": "code",
      "source": [
        "import pytesseract\n",
        "from PIL import Image\n",
        "import os\n",
        "import json"
      ],
      "metadata": {
        "id": "5aDwK-grsATC"
      },
      "execution_count": 8,
      "outputs": []
    },
    {
      "cell_type": "markdown",
      "source": [
        "## **3. Function Definition:**\n",
        "**extract_text_from_images:** This function handles the entire process of text extraction and saving the results.\n",
        "\n",
        "**Parameters:**\n",
        "\n",
        "***file_paths:*** A list of paths for image files that need OCR processing.\n",
        "***output_dir:*** Specifies the directory where the .txt files with extracted text will be saved. By default, it’s set to **/content/ocr_results**.\n",
        "\n"
      ],
      "metadata": {
        "id": "G2tMcCTpIsWT"
      }
    },
    {
      "cell_type": "markdown",
      "source": [
        "## **4. OCR Text Extraction Helper:**\n",
        "This helper function **ocr_text_extraction** processes individual image files:\n",
        "\n",
        "**File Type Check:** Checks if the file has an image extension (PNG, JPG, JPEG).\n",
        "\n",
        "**Opening Image:** Image.open(file_path) opens the image file so it can be processed.\n",
        "\n",
        "**OCR Application:** pytesseract.image_to_string(img) applies OCR to the image and extracts the text.\n",
        "\n",
        "**Return Text:** The extracted text is returned as a string.\n",
        "\n",
        "If the file is not in a supported format, it raises a ValueError to notify the user.\n",
        "\n"
      ],
      "metadata": {
        "id": "T-nI5jCstn15"
      }
    },
    {
      "cell_type": "markdown",
      "source": [
        "## **5. Output Directory Creation:**\n",
        "Checks if the output directory **(output_dir)** exists. If it doesn’t:\n",
        "\n",
        "**os.makedirs(output_dir, exist_ok=True)** creates the directory.\n",
        "\n",
        "**exist_ok=True** ensures that no error is raised if the directory already exists.\n",
        "\n",
        "A message is printed to confirm directory creation.\n",
        "\n"
      ],
      "metadata": {
        "id": "s2JrDl0PtsZB"
      }
    },
    {
      "cell_type": "markdown",
      "source": [
        "## **6. Data Dictionary Initialization:**\n",
        "**all_extracted_data:** A dictionary that will store the extracted text for each file. This will later be used to create a JSON summary of all processed files."
      ],
      "metadata": {
        "id": "iLRfEcbVtwaG"
      }
    },
    {
      "cell_type": "markdown",
      "source": [
        "## **7. File Processing Loop:**\n",
        "**The for loop** iterates through each **file pat**h in file_paths, allowing us to handle multiple files in one function call.\n"
      ],
      "metadata": {
        "id": "buMIPsh9tyeV"
      }
    },
    {
      "cell_type": "markdown",
      "source": [
        "## **8. File Existence Check and Processing:**\n",
        "**os.path.exists(file_path):** Checks if the file exists at the given path.\n",
        "\n",
        "If it does:\n",
        "\n",
        "A message is printed indicating the file being processed.\n",
        "\n",
        "**raw_text = ocr_text_extraction(file_path)** calls the helper function to extract text from the image.\n",
        "\n",
        "**all_extracted_data[file_path]** stores the extracted text for the file in the dictionary. If no text is found, it stores **\"No text found\"** instead.\n"
      ],
      "metadata": {
        "id": "jA7dbzizuPN-"
      }
    },
    {
      "cell_type": "markdown",
      "source": [
        "## **9. Saving Extracted Text to .txt File:**\n",
        "**output_file_path:** Constructs the output path for the .txt file based on the original file’s name.\n",
        "\n",
        "*os.path.basename(file_path):* Extracts the file name from the path.\n",
        "\n",
        "*os.path.splitext(...)[0] + '.txt':* Removes the file extension and appends .txt.\n",
        "\n",
        "*os.path.join(output_dir, ...):* Combines the output directory and the file name to get the full output path.\n",
        "\n",
        "**File Writing:**\n",
        "\n",
        "Attempts to write the extracted text to the .txt file.\n",
        "\n",
        "If successful, it prints a confirmation message.\n",
        "\n",
        "If an error occurs, it prints an error message detailing the issue."
      ],
      "metadata": {
        "id": "jeC-Va-jufIF"
      }
    },
    {
      "cell_type": "markdown",
      "source": [
        "## **10. Error Handling for Missing Files:**\n",
        "If the file doesn’t exist at the specified path:\n",
        "\n",
        "An error message is stored in **all_extracted_data** under the respective file path.\n",
        "\n",
        "A message is printed to notify that the file was not found."
      ],
      "metadata": {
        "id": "t3cgPiyOu-hZ"
      }
    },
    {
      "cell_type": "markdown",
      "source": [
        "## **11. Generate and Return JSON Output:**\n",
        "**json_output = json.dumps(all_extracted_data, indent=4):** Converts the all_extracted_data dictionary to a JSON-formatted string, which makes it easy to read and process.\n",
        "\n",
        "The JSON output is returned, containing the OCR results or error messages for each file."
      ],
      "metadata": {
        "id": "w8zsP57rvVlu"
      }
    },
    {
      "cell_type": "code",
      "source": [
        "# Define the function for OCR text extraction from multiple images\n",
        "def extract_text_from_images(file_paths, output_dir='/content/ocr_results'):\n",
        "    # Helper function to apply OCR directly on an image file\n",
        "    def ocr_text_extraction(file_path):\n",
        "        if file_path.endswith(('.png', '.jpg', '.jpeg')):\n",
        "            img = Image.open(file_path)\n",
        "            return pytesseract.image_to_string(img)\n",
        "        else:\n",
        "            raise ValueError(\"Unsupported file format. Use an image file.\")\n",
        "\n",
        "    # Ensure output directory exists\n",
        "    if not os.path.exists(output_dir):\n",
        "        os.makedirs(output_dir, exist_ok=True)\n",
        "        print(f\"Created output directory: {output_dir}\")\n",
        "\n",
        "    # Dictionary to hold extracted data for each file\n",
        "    all_extracted_data = {}\n",
        "\n",
        "    # Process each file in the list\n",
        "    for file_path in file_paths:\n",
        "        # Check if file exists\n",
        "        if os.path.exists(file_path):\n",
        "            print(f\"Processing file: {file_path}\")\n",
        "            # Extract text using OCR\n",
        "            raw_text = ocr_text_extraction(file_path)\n",
        "\n",
        "            # Store structured data in a dictionary\n",
        "            all_extracted_data[file_path] = {\n",
        "                \"extracted_text\": raw_text if raw_text else \"No text found\"\n",
        "            }\n",
        "\n",
        "            # Save each extracted text in a separate .txt file with preserved formatting\n",
        "            output_file_path = os.path.join(output_dir, os.path.splitext(os.path.basename(file_path))[0] + '.txt')\n",
        "            try:\n",
        "                with open(output_file_path, 'w') as txt_file:\n",
        "                    txt_file.write(raw_text)  # Write the raw OCR text without formatting changes\n",
        "                print(f\"Saved extracted text to: {output_file_path}\")\n",
        "            except Exception as e:\n",
        "                print(f\"Error saving file {output_file_path}: {e}\")\n",
        "\n",
        "        else:\n",
        "            all_extracted_data[file_path] = {\"error\": \"File not found\"}\n",
        "            print(f\"File not found: {file_path}\")\n",
        "\n",
        "    # Convert all data to JSON format\n",
        "    json_output = json.dumps(all_extracted_data, indent=4)\n",
        "    return json_output"
      ],
      "metadata": {
        "id": "Ynohz3eSP-qJ"
      },
      "execution_count": 9,
      "outputs": []
    },
    {
      "cell_type": "markdown",
      "source": [
        "## **12. Example Usage:**\n",
        "**file_paths:** A list of image file paths to be processed.\n",
        "**extracted_json = extract_text_from_images(file_paths):** Calls the function with **file_paths**, returning the JSON-formatted results.\n",
        "\n",
        "**print(extracted_json):** Prints the JSON output, which provides a summary of extracted text and any errors encountered."
      ],
      "metadata": {
        "id": "JEjCoKxjvpg-"
      }
    },
    {
      "cell_type": "code",
      "source": [
        "# Example usage\n",
        "file_paths = ['/content/application.png', '/content/docImg.jpg', '/content/poem.jpg','/content/receipt.png','/content/scannedImg.jpg','/content/scannedImg2.jpg',\n",
        "              '/content/scannedImg3.jpg','/content/story.png','/content/wallmartReceipt.png']\n",
        "extracted_json = extract_text_from_images(file_paths)\n",
        "print(extracted_json)"
      ],
      "metadata": {
        "colab": {
          "base_uri": "https://localhost:8080/"
        },
        "id": "DTuQ3Rf6vmRJ",
        "outputId": "703119bc-11d7-4e0f-b170-79aeb9d301bc"
      },
      "execution_count": 10,
      "outputs": [
        {
          "output_type": "stream",
          "name": "stdout",
          "text": [
            "Created output directory: /content/ocr_results\n",
            "Processing file: /content/application.png\n",
            "Saved extracted text to: /content/ocr_results/application.txt\n",
            "Processing file: /content/docImg.jpg\n",
            "Saved extracted text to: /content/ocr_results/docImg.txt\n",
            "Processing file: /content/poem.jpg\n",
            "Saved extracted text to: /content/ocr_results/poem.txt\n",
            "Processing file: /content/receipt.png\n",
            "Saved extracted text to: /content/ocr_results/receipt.txt\n",
            "Processing file: /content/scannedImg.jpg\n",
            "Saved extracted text to: /content/ocr_results/scannedImg.txt\n",
            "Processing file: /content/scannedImg2.jpg\n",
            "Saved extracted text to: /content/ocr_results/scannedImg2.txt\n",
            "Processing file: /content/scannedImg3.jpg\n",
            "Saved extracted text to: /content/ocr_results/scannedImg3.txt\n",
            "Processing file: /content/story.png\n",
            "Saved extracted text to: /content/ocr_results/story.txt\n",
            "Processing file: /content/wallmartReceipt.png\n",
            "Saved extracted text to: /content/ocr_results/wallmartReceipt.txt\n",
            "{\n",
            "    \"/content/application.png\": {\n",
            "        \"extracted_text\": \"   \\n\\n| Original Documen'\\n\\nThe principal\\nCollege name\\n\\nCollege address\\n\\nSubject: application for requesting\\nOriginal Document:\\nfespected sir/Mada\\nTwas a student at this college\\nTyour college name] between the yeai\\n([... to... |. leompleted my degree from.\\nyour college in [year]. Now I have an intervi\\nfor a job next week for which I need my\\noriginal documents.\\n\\n   \\n\\nTherefore, | request you to kindly _\\n\\nReturn my original documents. | shall be\\n\\nGrateful to you for this favour.\\n\\n \\n\\n=bddbhdubedh adhd\\n\\n \\n\\n\\u2014\\u2014\\n\\n \\n\\f\"\n",
            "    },\n",
            "    \"/content/docImg.jpg\": {\n",
            "        \"extracted_text\": \"SDG 9: Industry, Innovation, and Infrastructure\\n\\n\\u2018The \\\"AR Based Recommender for Interior Designing\\\" project aligns with SDG 9\\n\\n   \\n\\nby promoting inmovation through the integration of cutting-edge AR technology in\\n\\nhome renovation. Tit inttve demonstrate acommitnen to fostering industy\\nimovaton by azesing the tational limitations in he interior design sector. By\\nleveraging Unity with AR Foundation andthe AR Core Sameer, he project not\\nonly enhances the user experience but alo sets a new standard for technological\\nplications in home decoration. The developmen process empbaizes real-time\\ncolor visualization and user interaction, ensuring that the technology isnot only\\nimovatve but alo practical and werstiendy: The systematic and iterative\\napproach adopted inthis project underzcres the importance ofrobust infrastructure\\nanu sustainable indusiaizaton, facilitating advancements in digital solutions for\\nhome improvement. This project exemplifies how techroogialimovation can\\ndive industry growth, streamline proceses and ultimately contbuteto building\\n\\nresilient and sustainable infastructure.\\n\\nSDG U1: Sustainable Cities and Communities\\nThe project lo contbutes to SDG 11 by enhancing the quality and sustainability\\ncof whan living environments, Through the \\\"AR Bazed Recommender for Interior\\nDesigning,\\\" individuals can make more infomned and astetially pleasing design\\nchoices for their homes, fostering a sense of satisfaction and well-being. The ability\\n\\nSRR ee ee ee ee ee eee\\nassociated with wid-and-emor methods in home decoration, promoting more\\nflicent we of resources. Tis align with the goal of making cites and human\\nsetlements inclusive, safe, reien, and suraimble. By improving the home\\ndecoration process, the projet encourages amore thoughtful approach to interior\\ndesign, which can lead to more hannonious and sustainable living spaces.\\nAdditionally, fture enhancements ofthe application to include other aspects of\\nSnteror design could further contribute to cresting more cobesive and surtanable\\n\\n\\u2018urban communities, ultimately improving the overall quality of life for residents\\n\\f\"\n",
            "    },\n",
            "    \"/content/poem.jpg\": {\n",
            "        \"extracted_text\": \"Allah made the world so bright,\\n\\nI love to see the snow so white.\\n\\nThe grass so green, so blue the sea,\\n\\nThe sky so fine, that's above me.\\n\\f\"\n",
            "    },\n",
            "    \"/content/receipt.png\": {\n",
            "        \"extracted_text\": \"; sTAINC\\n3AG OF BEANS CAFE & RESTAURANT\\naurant Inc\\n\\nOpt. - = Rest\\npta by Bag of Beans Cafe & Re eae\\n\\n117 Aguinaldo Highway Crossing Ns\\nWrest Tagaytay City Cavite 412\\nTIN: 00S-117-738-000 VAT\\n\\n \\n\\nOR = 783944\\n\\nGuest3\\n\\n1:24:50 Pni\\n\\n \\n\\n \\n\\n \\n\\n1 Coffee Choco Banana 17Ox\\u00ab\\n\\n1 HotGreen Tea 100.00\\n\\n1 D White mocha 165.00\\n\\n1 Blueberry Cheesecake [Slice] 175.00\\nSubTotal 610.00\\nPreTax 344.64\\n\\nSer Sale 02> 54.46\\n\\nAmount Due 664\\n\\n \\n\\f\"\n",
            "    },\n",
            "    \"/content/scannedImg.jpg\": {\n",
            "        \"extracted_text\": \"_\\nbeds of brightly co!\\n\\nis there are rows\\n\\n   \\n   \\n \\n  \\n  \\n \\n \\n  \\n \\n  \\n\\nIt is spring. Flowers are in full bloom. There are\\nflowers in the school garden. Behind the flower bed\\n\\nsunflower plants. They are tall and straight and face the sun. The big\\n\\nflowers have brown centres. Ms. Samina wanted to show children of \\u00a2\\na sunflower plant.\\n\\n\\u201cThe sunflower plant is a very useful plant. We can make cooking oil f\\nseeds\\\" she said pointing to the flowers in the garden.\\n\\n\\u201cRaza and Bilal, quickly run to the garden and get a sunflower plant,\\\" said\\n\\nMs. Samina.\\n\\n \\n\\n\\u201cThe pot will be heavy,\\u201d said Raza as they ran out of the class.\\n\\u201cDon't worry Raza, we can lift it together,\\\" said Bilal, patting Raza on the\\nThey looked for the gardener.\\n\\n\\u201cMalee Baba! Malee Baba! Where are you?\\\" they called out.\\n\\n\\u201cWhat do you want? Why are you out of your class>\\\" asked th\\nturning off the water tap. old gardene\\n\\n\\u201cOh, there you are! Please give us a sunflower plant Ads\\n\\u00a2 ! w A\\nplease,\\u201d said Bilal excitedly. \\\"We want to see the See, Za. \\\"A big one\\n\\nds : ,\\nsaid Raza. from which oil is mo\\n\\f\"\n",
            "    },\n",
            "    \"/content/scannedImg2.jpg\": {\n",
            "        \"extracted_text\": \"And I want to see how the flower turns and moves its head to face the sun,\\u201d\\n\\nsaid Bilal.\\n\\n*You can take anyone of those plants but be careful. The stems are spiky,\\u201d\\narned the gardener. \\u201cMalee Baba, please take one out for us,\\\" said Bilal.\\n\\nAll right, be patient!\\\" said the gardener on \\u00a9\\n3)\\n\\n\\u2018brushing of f his hands. He picked up a pot ef : i. i\\nith bright yellow flowers in it. There \\u2018\\n\\n   \\n\\n \\n\\nwere three flowers and one small bud on\\nthe plant.\\nyou see the little bud? In sha Allah, Allah = will change the little bud\\nnto a beautiful flower. Watch it grow into a big flower just like this one,\\u201d said\\ngardener, pointing at the sunflower. Bilal and Raza lifted up the pot from\\nside. \\\"Be careful, Raza, walk slowly,\\u201d said Bilal. They carried the pot to\\n\\nclass smiling at each other.\\n\\n \\n\\f\"\n",
            "    },\n",
            "    \"/content/scannedImg3.jpg\": {\n",
            "        \"extracted_text\": \" \\n\\neof pot ee Peete =o Cs\\nOrelatlasfon bes de nPereAL\\nPorc tistniac te lad\\nE we dirctors fb (Gilt cuesiey cia4\\n\\n12) = Npderface t:\\u2014\\nae a povals 2. agnoem< wis\\nne a\\n\\nee Sanz. x Dane Blom. ens =\\nyw Ma: Hon\\n\\n \\n  \\n\\n)\\n\\n \\n \\n  \\n\\n  \\n\\n \\n\\n \\n\\n \\n\\n \\n\\f\"\n",
            "    },\n",
            "    \"/content/story.png\": {\n",
            "        \"extracted_text\": \"Mystic Moon wandered the Magaliesberg hills for many days and\\nmany months. In this time, he had seen no other wolves. He hag\\n\\u2018come across some ions but ket hs stance. Now and again they\\n_rrowied at him from a distance as he moved between the age-old\\nbrown rocks and the vegetation ~ bushes, grass, wild lowers. At\\n\\u2018other times, careful to stay downwind, he came cise tothe lions,\\nJust watching them and getting to\\n\\n\\u2018know the other avmals inthe area.\\n\\nHe loved chmbing tothe crest the\\n\\nafternoon ight\\n\\nUp there, he could eel the cooling\\n\\u2018ir sometimes gusting and\\n\\nsometimes gentle. He could se far\\n\\nInto the stance \\u2014 the grasslands\\n\\n{far away and here and there a human dwelling. Sometimes when the\\n\\\\wind pushed har, caused tears in his eves. But he was at peace\\nhere, finding a stillness in ise\\n\\n\\u2018One day he noticed two young lions paying onthe hillside, moving\\nhigher and higher up in the folds between the crag. His eyes drifted\\nto some eagles circling afew mules west. He also saw a few grey\\n\\u2018duds drifting in and wondered if rain would come. When he turned\\nback to look at the cubs, they were perched on a narrow ledge.\\nBelow them, the valley fell away, hundreds of fet. He could see no\\n\\u2018du ons nearby.\\n\\nBefore the cubs the small stone walkway\\ncontinued fora bt; then it ended in a\\nsheer rock face. Above them, the rocks\\nperched precariously. He watched as one\\n\\u2018of them tried to walk backwards, butts\\n\\n \\n\\n\\u2018paws fumbled on loose stones and the young ion froze. One jump\\n\\u2018away was a flat rock that again opened up tothe bushes on the\\nInline. Mystic Moon bounded down along a path, getting lose to\\nthe pale. \\\"Hey kids,\\\" he said.\\n\\n\\u2018Te cubs dared not lock up. He heard one callout: \\\"Hey, hello\\nwhere are you, who are you?\\u201d\\n\\n\\u2018Then the other's voice trembled: \\u201cP.p.please help us!\\n\\nThe wolf said: \\\"lam Mystic Moon. Don't look up. Just stay alm. am\\ncoming tohelp.\\u201d\\n\\nust then Mystic Moon heard a loud\\n{row He looked down. It was the\\nliom he knew as Matseng. A few steps\\nbehind him was Cleo, a lioness that\\nthe wolf had seen afew times with\\n\\u2018Matseng and his brother 2ukhara.\\n\\\"Keep away from them,\\u201d Matseng\\nroared again. \\\"Yes you, wolf\\u201d In the\\nsilence of the mountain, it was like\\nthunder In the wos ears.\\n\\n\\u2018Mystic Moon looked at them. Normally he feared lions, especially\\nsince they hunted ina pack; but his concern forthe cubs made him\\n\\u2018stand his ground. He walked onto a smal rock nearer the edge:\\n\\n\\u201cMatseng. I come in peace.\\\" he said. \\\"We have had our differences. |\\n\\u2018know you are fussy about who comes into your hunting grounds. But\\nthis isn time for that. Can't you see your ite ones are in trouble.\\u201d\\n\\n\\u2018Matseng roared again.\\n\\n \\n\\f\"\n",
            "    },\n",
            "    \"/content/wallmartReceipt.png\": {\n",
            "        \"extracted_text\": \"i]\\nWalmart >,<.\\n\\nSave money. Live better.\\n(330) 339 - 3992\\nMANAGER DIANA EARNEST\\n231 BLUEBELL DR SW\\nNEW PHILADELPHIA Of 44663\\nst# o2ii5 OP# 00904 TDF 44 TRE 01201\\n\\nPET TOY (004747571658 1.97 x\\nFLOPPY PUPPY 004747514846 alo7 x\\nSSSUPREME $ 070060332153, 4:97 x\\n2.5 SQUEAK 084699403238 Sioz x\\nMONCHY DMBEL 068113108796 3177 x\\nDOG TREAT 007119013654 aloz x\\nPED PCH 1 002310011802 0:50 x\\nPED PCH 1 00z310011802 0:50 x\\nCOUPON 23100 052310037000 100-0\\nHNYMD SHORES 088491226837 F 3.98 0.\\nFRENCH DRSNG 004132100655 F 1.98 0.\\n3 ORANGES 001466835001 F \\u00ab5.47 8\\nBABY CARROTS 003336366602 I 1.44 N\\nCOLLARDS \\u2014000000004614KI 1.24 N\\nCALZONE, o0szoB36z080 F 2.50 0\\nMa RVW MNT 003399105u48 39.77 x\\nSTKOBRLPLABL 001558679414 1197 x\\nSTKOBRLPLABL 001556679414 alo7 x\\nSTKO SUNFLWR 001558679410 0197 x\\nSTKO SUNFLWR 001558679410 0.97 x\\nSTKO SUNFLWR 001558679410 0197 x\\nSTKO SUNFLWR 001558679410 0197 x\\nBLING BEADS 076594060699 0197 x\\nGREAT VALUE 007874203191 F 9.97 0\\nLIPTON, oo1zoooiizzd Fda X\\nDRY DOG. 002310011035 ag.aa x\\n\\nSUBTOTAL 93.62\\n\\nTAK 1 6.750 % also\\n\\nTOTAL \\u00a9 98.21\\n\\nVISA TEND 98.21\\n\\n \\n\\f\"\n",
            "    }\n",
            "}\n"
          ]
        }
      ]
    },
    {
      "cell_type": "markdown",
      "source": [
        "## **Result**\n",
        "### This code effectively handles multiple images, applies OCR to extract text, and saves each output as a .txt file while also summarizing results in JSON."
      ],
      "metadata": {
        "id": "YsWt4R1RdIyn"
      }
    }
  ]
}